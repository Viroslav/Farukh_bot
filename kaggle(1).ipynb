{
  "nbformat": 4,
  "nbformat_minor": 0,
  "metadata": {
    "colab": {
      "name": "kaggle(1).ipynb",
      "provenance": [],
      "authorship_tag": "ABX9TyMa8Vc1GKE1WXIT9wNLCEaX",
      "include_colab_link": true
    },
    "kernelspec": {
      "name": "python3",
      "display_name": "Python 3"
    },
    "language_info": {
      "name": "python"
    }
  },
  "cells": [
    {
      "cell_type": "markdown",
      "metadata": {
        "id": "view-in-github",
        "colab_type": "text"
      },
      "source": [
        "<a href=\"https://colab.research.google.com/github/Viroslav/Farukh_bot/blob/main/kaggle(1).ipynb\" target=\"_parent\"><img src=\"https://colab.research.google.com/assets/colab-badge.svg\" alt=\"Open In Colab\"/></a>"
      ]
    },
    {
      "cell_type": "code",
      "execution_count": 1,
      "metadata": {
        "id": "Ucsp9H3VbEhz"
      },
      "outputs": [],
      "source": [
        "import pandas as pd\n",
        "import numpy as np\n",
        "import matplotlib.pyplot as plt\n",
        "import seaborn as sns\n",
        "import plotly.express as px"
      ]
    },
    {
      "cell_type": "code",
      "source": [
        "train = pd.read_csv(\"/content/train.csv\")\n",
        "stores = pd.read_csv(\"/content/stores.csv\")\n",
        "oil = pd.read_csv(\"/content/oil.csv\")\n",
        "transactions = pd.read_csv(\"/content/transactions.csv\")\n",
        "holidays_events = pd.read_csv(\"/content/holidays_events.csv\")"
      ],
      "metadata": {
        "id": "E2VOXKBObISl"
      },
      "execution_count": 2,
      "outputs": []
    },
    {
      "cell_type": "code",
      "source": [
        "stores_sales = train.merge(stores).drop(['id'], axis = 1)\n",
        "stores_sales"
      ],
      "metadata": {
        "colab": {
          "base_uri": "https://localhost:8080/",
          "height": 424
        },
        "id": "rdRKWnsabI5E",
        "outputId": "2213bd95-debe-4588-a05c-e7c65c288292"
      },
      "execution_count": 3,
      "outputs": [
        {
          "output_type": "execute_result",
          "data": {
            "text/plain": [
              "              date  store_nbr                      family      sales  \\\n",
              "0       2013-01-01        1.0                  AUTOMOTIVE    0.00000   \n",
              "1       2013-01-01        1.0                   BABY CARE    0.00000   \n",
              "2       2013-01-01        1.0                      BEAUTY    0.00000   \n",
              "3       2013-01-01        1.0                   BEVERAGES    0.00000   \n",
              "4       2013-01-01        1.0                       BOOKS    0.00000   \n",
              "...            ...        ...                         ...        ...   \n",
              "214842  2013-04-30        9.0                     POULTRY  367.71402   \n",
              "214843  2013-04-30        9.0              PREPARED FOODS   46.00000   \n",
              "214844  2013-04-30        9.0                     PRODUCE    0.00000   \n",
              "214845  2013-04-30        9.0  SCHOOL AND OFFICE SUPPLIES    0.00000   \n",
              "214846  2013-04-30        9.0                     SEAFOOD   14.73100   \n",
              "\n",
              "        onpromotion   city      state type  cluster  \n",
              "0               0.0  Quito  Pichincha    D       13  \n",
              "1               0.0  Quito  Pichincha    D       13  \n",
              "2               0.0  Quito  Pichincha    D       13  \n",
              "3               0.0  Quito  Pichincha    D       13  \n",
              "4               0.0  Quito  Pichincha    D       13  \n",
              "...             ...    ...        ...  ...      ...  \n",
              "214842          0.0  Quito  Pichincha    B        6  \n",
              "214843          0.0  Quito  Pichincha    B        6  \n",
              "214844          0.0  Quito  Pichincha    B        6  \n",
              "214845          0.0  Quito  Pichincha    B        6  \n",
              "214846          0.0  Quito  Pichincha    B        6  \n",
              "\n",
              "[214847 rows x 9 columns]"
            ],
            "text/html": [
              "\n",
              "  <div id=\"df-849a525b-20c9-4e48-afbd-3b6a11c31e10\">\n",
              "    <div class=\"colab-df-container\">\n",
              "      <div>\n",
              "<style scoped>\n",
              "    .dataframe tbody tr th:only-of-type {\n",
              "        vertical-align: middle;\n",
              "    }\n",
              "\n",
              "    .dataframe tbody tr th {\n",
              "        vertical-align: top;\n",
              "    }\n",
              "\n",
              "    .dataframe thead th {\n",
              "        text-align: right;\n",
              "    }\n",
              "</style>\n",
              "<table border=\"1\" class=\"dataframe\">\n",
              "  <thead>\n",
              "    <tr style=\"text-align: right;\">\n",
              "      <th></th>\n",
              "      <th>date</th>\n",
              "      <th>store_nbr</th>\n",
              "      <th>family</th>\n",
              "      <th>sales</th>\n",
              "      <th>onpromotion</th>\n",
              "      <th>city</th>\n",
              "      <th>state</th>\n",
              "      <th>type</th>\n",
              "      <th>cluster</th>\n",
              "    </tr>\n",
              "  </thead>\n",
              "  <tbody>\n",
              "    <tr>\n",
              "      <th>0</th>\n",
              "      <td>2013-01-01</td>\n",
              "      <td>1.0</td>\n",
              "      <td>AUTOMOTIVE</td>\n",
              "      <td>0.00000</td>\n",
              "      <td>0.0</td>\n",
              "      <td>Quito</td>\n",
              "      <td>Pichincha</td>\n",
              "      <td>D</td>\n",
              "      <td>13</td>\n",
              "    </tr>\n",
              "    <tr>\n",
              "      <th>1</th>\n",
              "      <td>2013-01-01</td>\n",
              "      <td>1.0</td>\n",
              "      <td>BABY CARE</td>\n",
              "      <td>0.00000</td>\n",
              "      <td>0.0</td>\n",
              "      <td>Quito</td>\n",
              "      <td>Pichincha</td>\n",
              "      <td>D</td>\n",
              "      <td>13</td>\n",
              "    </tr>\n",
              "    <tr>\n",
              "      <th>2</th>\n",
              "      <td>2013-01-01</td>\n",
              "      <td>1.0</td>\n",
              "      <td>BEAUTY</td>\n",
              "      <td>0.00000</td>\n",
              "      <td>0.0</td>\n",
              "      <td>Quito</td>\n",
              "      <td>Pichincha</td>\n",
              "      <td>D</td>\n",
              "      <td>13</td>\n",
              "    </tr>\n",
              "    <tr>\n",
              "      <th>3</th>\n",
              "      <td>2013-01-01</td>\n",
              "      <td>1.0</td>\n",
              "      <td>BEVERAGES</td>\n",
              "      <td>0.00000</td>\n",
              "      <td>0.0</td>\n",
              "      <td>Quito</td>\n",
              "      <td>Pichincha</td>\n",
              "      <td>D</td>\n",
              "      <td>13</td>\n",
              "    </tr>\n",
              "    <tr>\n",
              "      <th>4</th>\n",
              "      <td>2013-01-01</td>\n",
              "      <td>1.0</td>\n",
              "      <td>BOOKS</td>\n",
              "      <td>0.00000</td>\n",
              "      <td>0.0</td>\n",
              "      <td>Quito</td>\n",
              "      <td>Pichincha</td>\n",
              "      <td>D</td>\n",
              "      <td>13</td>\n",
              "    </tr>\n",
              "    <tr>\n",
              "      <th>...</th>\n",
              "      <td>...</td>\n",
              "      <td>...</td>\n",
              "      <td>...</td>\n",
              "      <td>...</td>\n",
              "      <td>...</td>\n",
              "      <td>...</td>\n",
              "      <td>...</td>\n",
              "      <td>...</td>\n",
              "      <td>...</td>\n",
              "    </tr>\n",
              "    <tr>\n",
              "      <th>214842</th>\n",
              "      <td>2013-04-30</td>\n",
              "      <td>9.0</td>\n",
              "      <td>POULTRY</td>\n",
              "      <td>367.71402</td>\n",
              "      <td>0.0</td>\n",
              "      <td>Quito</td>\n",
              "      <td>Pichincha</td>\n",
              "      <td>B</td>\n",
              "      <td>6</td>\n",
              "    </tr>\n",
              "    <tr>\n",
              "      <th>214843</th>\n",
              "      <td>2013-04-30</td>\n",
              "      <td>9.0</td>\n",
              "      <td>PREPARED FOODS</td>\n",
              "      <td>46.00000</td>\n",
              "      <td>0.0</td>\n",
              "      <td>Quito</td>\n",
              "      <td>Pichincha</td>\n",
              "      <td>B</td>\n",
              "      <td>6</td>\n",
              "    </tr>\n",
              "    <tr>\n",
              "      <th>214844</th>\n",
              "      <td>2013-04-30</td>\n",
              "      <td>9.0</td>\n",
              "      <td>PRODUCE</td>\n",
              "      <td>0.00000</td>\n",
              "      <td>0.0</td>\n",
              "      <td>Quito</td>\n",
              "      <td>Pichincha</td>\n",
              "      <td>B</td>\n",
              "      <td>6</td>\n",
              "    </tr>\n",
              "    <tr>\n",
              "      <th>214845</th>\n",
              "      <td>2013-04-30</td>\n",
              "      <td>9.0</td>\n",
              "      <td>SCHOOL AND OFFICE SUPPLIES</td>\n",
              "      <td>0.00000</td>\n",
              "      <td>0.0</td>\n",
              "      <td>Quito</td>\n",
              "      <td>Pichincha</td>\n",
              "      <td>B</td>\n",
              "      <td>6</td>\n",
              "    </tr>\n",
              "    <tr>\n",
              "      <th>214846</th>\n",
              "      <td>2013-04-30</td>\n",
              "      <td>9.0</td>\n",
              "      <td>SEAFOOD</td>\n",
              "      <td>14.73100</td>\n",
              "      <td>0.0</td>\n",
              "      <td>Quito</td>\n",
              "      <td>Pichincha</td>\n",
              "      <td>B</td>\n",
              "      <td>6</td>\n",
              "    </tr>\n",
              "  </tbody>\n",
              "</table>\n",
              "<p>214847 rows × 9 columns</p>\n",
              "</div>\n",
              "      <button class=\"colab-df-convert\" onclick=\"convertToInteractive('df-849a525b-20c9-4e48-afbd-3b6a11c31e10')\"\n",
              "              title=\"Convert this dataframe to an interactive table.\"\n",
              "              style=\"display:none;\">\n",
              "        \n",
              "  <svg xmlns=\"http://www.w3.org/2000/svg\" height=\"24px\"viewBox=\"0 0 24 24\"\n",
              "       width=\"24px\">\n",
              "    <path d=\"M0 0h24v24H0V0z\" fill=\"none\"/>\n",
              "    <path d=\"M18.56 5.44l.94 2.06.94-2.06 2.06-.94-2.06-.94-.94-2.06-.94 2.06-2.06.94zm-11 1L8.5 8.5l.94-2.06 2.06-.94-2.06-.94L8.5 2.5l-.94 2.06-2.06.94zm10 10l.94 2.06.94-2.06 2.06-.94-2.06-.94-.94-2.06-.94 2.06-2.06.94z\"/><path d=\"M17.41 7.96l-1.37-1.37c-.4-.4-.92-.59-1.43-.59-.52 0-1.04.2-1.43.59L10.3 9.45l-7.72 7.72c-.78.78-.78 2.05 0 2.83L4 21.41c.39.39.9.59 1.41.59.51 0 1.02-.2 1.41-.59l7.78-7.78 2.81-2.81c.8-.78.8-2.07 0-2.86zM5.41 20L4 18.59l7.72-7.72 1.47 1.35L5.41 20z\"/>\n",
              "  </svg>\n",
              "      </button>\n",
              "      \n",
              "  <style>\n",
              "    .colab-df-container {\n",
              "      display:flex;\n",
              "      flex-wrap:wrap;\n",
              "      gap: 12px;\n",
              "    }\n",
              "\n",
              "    .colab-df-convert {\n",
              "      background-color: #E8F0FE;\n",
              "      border: none;\n",
              "      border-radius: 50%;\n",
              "      cursor: pointer;\n",
              "      display: none;\n",
              "      fill: #1967D2;\n",
              "      height: 32px;\n",
              "      padding: 0 0 0 0;\n",
              "      width: 32px;\n",
              "    }\n",
              "\n",
              "    .colab-df-convert:hover {\n",
              "      background-color: #E2EBFA;\n",
              "      box-shadow: 0px 1px 2px rgba(60, 64, 67, 0.3), 0px 1px 3px 1px rgba(60, 64, 67, 0.15);\n",
              "      fill: #174EA6;\n",
              "    }\n",
              "\n",
              "    [theme=dark] .colab-df-convert {\n",
              "      background-color: #3B4455;\n",
              "      fill: #D2E3FC;\n",
              "    }\n",
              "\n",
              "    [theme=dark] .colab-df-convert:hover {\n",
              "      background-color: #434B5C;\n",
              "      box-shadow: 0px 1px 3px 1px rgba(0, 0, 0, 0.15);\n",
              "      filter: drop-shadow(0px 1px 2px rgba(0, 0, 0, 0.3));\n",
              "      fill: #FFFFFF;\n",
              "    }\n",
              "  </style>\n",
              "\n",
              "      <script>\n",
              "        const buttonEl =\n",
              "          document.querySelector('#df-849a525b-20c9-4e48-afbd-3b6a11c31e10 button.colab-df-convert');\n",
              "        buttonEl.style.display =\n",
              "          google.colab.kernel.accessAllowed ? 'block' : 'none';\n",
              "\n",
              "        async function convertToInteractive(key) {\n",
              "          const element = document.querySelector('#df-849a525b-20c9-4e48-afbd-3b6a11c31e10');\n",
              "          const dataTable =\n",
              "            await google.colab.kernel.invokeFunction('convertToInteractive',\n",
              "                                                     [key], {});\n",
              "          if (!dataTable) return;\n",
              "\n",
              "          const docLinkHtml = 'Like what you see? Visit the ' +\n",
              "            '<a target=\"_blank\" href=https://colab.research.google.com/notebooks/data_table.ipynb>data table notebook</a>'\n",
              "            + ' to learn more about interactive tables.';\n",
              "          element.innerHTML = '';\n",
              "          dataTable['output_type'] = 'display_data';\n",
              "          await google.colab.output.renderOutput(dataTable, element);\n",
              "          const docLink = document.createElement('div');\n",
              "          docLink.innerHTML = docLinkHtml;\n",
              "          element.appendChild(docLink);\n",
              "        }\n",
              "      </script>\n",
              "    </div>\n",
              "  </div>\n",
              "  "
            ]
          },
          "metadata": {},
          "execution_count": 3
        }
      ]
    },
    {
      "cell_type": "code",
      "source": [
        "import torch\n",
        "import torch.nn as nn\n",
        "from torch.autograd import Variable\n",
        "from sklearn.preprocessing import MinMaxScaler\n",
        "import math\n",
        "from tensorflow.keras.models import Sequential\n",
        "from tensorflow.keras.layers import Dense\n",
        "from tensorflow.keras.layers import LSTM\n",
        "from tensorflow.keras import optimizers\n",
        "from sklearn.metrics import mean_squared_error\n",
        "from sklearn.model_selection import train_test_split"
      ],
      "metadata": {
        "id": "hZHFZiBlbI7j"
      },
      "execution_count": 4,
      "outputs": []
    },
    {
      "cell_type": "code",
      "source": [
        "X = stores_sales.drop(['sales'], axis = 1)"
      ],
      "metadata": {
        "id": "gcppZZ13bI-F"
      },
      "execution_count": 5,
      "outputs": []
    },
    {
      "cell_type": "code",
      "source": [
        "y = stores_sales.sales"
      ],
      "metadata": {
        "id": "Kv5u_VpnbJAd"
      },
      "execution_count": 6,
      "outputs": []
    },
    {
      "cell_type": "code",
      "source": [
        "X['date'] =pd.to_datetime(X['date'])\n",
        "X.index= X['date']\n",
        "X = X.drop(['date'], axis = 1)"
      ],
      "metadata": {
        "id": "Xccoe--7bJCw"
      },
      "execution_count": 7,
      "outputs": []
    },
    {
      "cell_type": "code",
      "source": [
        "from sklearn.preprocessing import LabelEncoder\n",
        "labelencoder = LabelEncoder()\n",
        "X['family_cat']= labelencoder.fit_transform(X.family.values)\n",
        "X['city_cat']= labelencoder.fit_transform(X.city.values)\n",
        "X['state_cat']= labelencoder.fit_transform(X.state.values)\n",
        "X['type_cat']= labelencoder.fit_transform(X.type.values)"
      ],
      "metadata": {
        "id": "A0WJGpJObJFJ"
      },
      "execution_count": 8,
      "outputs": []
    },
    {
      "cell_type": "code",
      "source": [
        "X = X.drop(['family', 'city', 'state', 'type'], axis = 1)"
      ],
      "metadata": {
        "id": "0MewPkgabJHW"
      },
      "execution_count": 9,
      "outputs": []
    },
    {
      "cell_type": "code",
      "source": [
        "class RegressionNet(torch.nn.Module):\n",
        "    def __init__(self, n_hidden_neurons):\n",
        "        super(RegressionNet,self).__init__()\n",
        "        self.fc1 = torch.nn.Linear(in_features= X.shape[1], out_features=20, bias=True)      #1 слой, полносвязный\n",
        "        self.act1 = torch.nn.ReLU()\n",
        "        self.fc2 = torch.nn.Linear(in_features=20, out_features=20, bias=True)     #2 слой полносвязный\n",
        "        self.act2 = torch.nn.ReLU()\n",
        "        self.fc3 = torch.nn.Linear(in_features=20, out_features=1, bias=True)      #3 слой - выход\n",
        "\n",
        "    def forward(self, x):\n",
        "        x = self.fc1(x)\n",
        "        x = self.act1(x)\n",
        "        x = self.fc2(x)\n",
        "        x = self.act2(x)\n",
        "        x = self.fc3(x)\n",
        "        return x\n",
        "\n",
        "net = RegressionNet(100)"
      ],
      "metadata": {
        "id": "96ebPa0rbJJ3"
      },
      "execution_count": 10,
      "outputs": []
    },
    {
      "cell_type": "code",
      "source": [
        "loss = torch.nn.CrossEntropyLoss()\n",
        "optimizer = torch.optim.Adam(net.parameters(), lr=1.0e-3)"
      ],
      "metadata": {
        "id": "slQFxKEDbJMO"
      },
      "execution_count": 11,
      "outputs": []
    },
    {
      "cell_type": "code",
      "source": [
        "test_size = round(int(0.02 * X.shape[0]))\n",
        "test_size"
      ],
      "metadata": {
        "colab": {
          "base_uri": "https://localhost:8080/"
        },
        "id": "sCsTlZrEbJOk",
        "outputId": "1d3f1135-cc85-4925-86df-ce922d6cde91"
      },
      "execution_count": 12,
      "outputs": [
        {
          "output_type": "execute_result",
          "data": {
            "text/plain": [
              "4296"
            ]
          },
          "metadata": {},
          "execution_count": 12
        }
      ]
    },
    {
      "cell_type": "code",
      "source": [
        "X_test = X[-test_size:]"
      ],
      "metadata": {
        "id": "vD71IbNabJRA"
      },
      "execution_count": 13,
      "outputs": []
    },
    {
      "cell_type": "code",
      "source": [
        "y_test = y[-test_size:]\n",
        "y_test"
      ],
      "metadata": {
        "colab": {
          "base_uri": "https://localhost:8080/"
        },
        "id": "4j_KMH7ibJTW",
        "outputId": "402b0f0c-ab31-4352-fec3-68d3867f3f81"
      },
      "execution_count": 14,
      "outputs": [
        {
          "output_type": "execute_result",
          "data": {
            "text/plain": [
              "210551      0.00000\n",
              "210552    333.95300\n",
              "210553    323.42902\n",
              "210554      7.00000\n",
              "210555      0.00000\n",
              "            ...    \n",
              "214842    367.71402\n",
              "214843     46.00000\n",
              "214844      0.00000\n",
              "214845      0.00000\n",
              "214846     14.73100\n",
              "Name: sales, Length: 4296, dtype: float64"
            ]
          },
          "metadata": {},
          "execution_count": 14
        }
      ]
    },
    {
      "cell_type": "code",
      "source": [
        "# creating tensor from targets_df \n",
        "X_train = torch.FloatTensor(X.values)\n",
        "X_test = torch.FloatTensor(X_test.values)\n",
        "y_train = torch.LongTensor(y.values)\n",
        "y_test = torch.LongTensor(y_test.values)"
      ],
      "metadata": {
        "id": "_ojs6lHgbJV8"
      },
      "execution_count": 15,
      "outputs": []
    },
    {
      "cell_type": "code",
      "source": [
        "# ------Dataset preparation end--------:\n",
        "\n",
        "# loss MSE\n",
        "def loss(pred, target):\n",
        "    squares = (pred - target) ** 2\n",
        "    return squares.mean()\n",
        "\n",
        "for epoch_index in range(1000):\n",
        "    optimizer.zero_grad()\n",
        "\n",
        "    y_pred = net.forward(X_train)\n",
        "    loss_value = loss(y_pred, y_train)\n",
        "    loss_value.backward()\n",
        "    optimizer.step()\n",
        "\n",
        "# Проверка осуществляется вызовом кода:\n",
        "def metric(pred, target):\n",
        "    return (pred - target).abs().mean()\n",
        "\n",
        "print(metric(net.forward(X_test), y_test).item())"
      ],
      "metadata": {
        "id": "X7vhNiZibJYV"
      },
      "execution_count": null,
      "outputs": []
    },
    {
      "cell_type": "code",
      "source": [
        ""
      ],
      "metadata": {
        "id": "AXijK99HbJaw"
      },
      "execution_count": null,
      "outputs": []
    },
    {
      "cell_type": "code",
      "source": [
        ""
      ],
      "metadata": {
        "id": "Lm_cqTbYbJdO"
      },
      "execution_count": null,
      "outputs": []
    },
    {
      "cell_type": "code",
      "source": [
        ""
      ],
      "metadata": {
        "id": "z-lk6pb_bJf2"
      },
      "execution_count": null,
      "outputs": []
    },
    {
      "cell_type": "code",
      "source": [
        ""
      ],
      "metadata": {
        "id": "ihG0Orj1bJia"
      },
      "execution_count": null,
      "outputs": []
    },
    {
      "cell_type": "code",
      "source": [
        ""
      ],
      "metadata": {
        "id": "a7RB3JW_bJlB"
      },
      "execution_count": null,
      "outputs": []
    },
    {
      "cell_type": "code",
      "source": [
        ""
      ],
      "metadata": {
        "id": "zcshX3lEbJnx"
      },
      "execution_count": null,
      "outputs": []
    },
    {
      "cell_type": "code",
      "source": [
        ""
      ],
      "metadata": {
        "id": "p3UD4FXObJqX"
      },
      "execution_count": null,
      "outputs": []
    },
    {
      "cell_type": "code",
      "source": [
        ""
      ],
      "metadata": {
        "id": "iAFfEPiubJtK"
      },
      "execution_count": null,
      "outputs": []
    },
    {
      "cell_type": "code",
      "source": [
        ""
      ],
      "metadata": {
        "id": "zCGXVc-lbJvp"
      },
      "execution_count": null,
      "outputs": []
    }
  ]
}